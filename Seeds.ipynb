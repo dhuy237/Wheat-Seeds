{
  "nbformat": 4,
  "nbformat_minor": 0,
  "metadata": {
    "colab": {
      "name": "Seeds.ipynb",
      "provenance": [],
      "collapsed_sections": []
    },
    "kernelspec": {
      "name": "python3",
      "display_name": "Python 3"
    }
  },
  "cells": [
    {
      "cell_type": "markdown",
      "metadata": {
        "id": "-TNlIfC7fg-K",
        "colab_type": "text"
      },
      "source": [
        "# **The Wheat Seeds Dataset**\n",
        "\n",
        "**Overview**\n",
        "\n",
        "The Wheat Seeds Dataset involves the prediction of species given measurements of seeds from different varieties of wheat.\n",
        "\n",
        "It is a binary (2-class) classification problem. \n",
        "The number of observations for each class is balanced. \n",
        "There are 210 observations with 7 input variables and 1 output variable. \n",
        "The variable names are as follows:\n",
        "\n",
        "- Area.\n",
        "- Perimeter.\n",
        "- Compactness\n",
        "- Length of kernel.\n",
        "- Width of kernel.\n",
        "- Asymmetry coefficient.\n",
        "- Length of kernel groove.\n",
        "- Class (1, 2, 3).\n",
        "\n",
        "**Notes: Please make a copy before start working**"
      ]
    },
    {
      "cell_type": "markdown",
      "metadata": {
        "id": "6vrfjk2dgH4C",
        "colab_type": "text"
      },
      "source": [
        "**Import tools set**"
      ]
    },
    {
      "cell_type": "code",
      "metadata": {
        "id": "irCzUYBAfpHX",
        "colab_type": "code",
        "colab": {}
      },
      "source": [
        "# Your code here\n",
        "import numpy as np\n",
        "import pandas as pd\n",
        "import seaborn as sns\n",
        "import matplotlib.pyplot as plt\n",
        "%matplotlib inline\n",
        "import warnings\n",
        "warnings.filterwarnings('ignore')\n",
        "\n",
        "sns.set_style(\"whitegrid\")"
      ],
      "execution_count": 0,
      "outputs": []
    },
    {
      "cell_type": "markdown",
      "metadata": {
        "id": "v6GMCFsrgNXw",
        "colab_type": "text"
      },
      "source": [
        "**Read 08_seeds.csv as a dataframe call se**"
      ]
    },
    {
      "cell_type": "code",
      "metadata": {
        "id": "4Nb_yfYygfMj",
        "colab_type": "code",
        "colab": {}
      },
      "source": [
        "# github link: 'https://raw.githubusercontent.com/dhuy237/Wheat-Seeds/master/08_seeds.csv'\n",
        "# google drive: 'https://drive.google.com/file/d/1113DaNnvaT1GKkC-26KufoldZ2J9cn78/view'\n",
        "url = 'https://raw.githubusercontent.com/dhuy237/Wheat-Seeds/master/08_seeds.csv'\n",
        "se = pd.read_csv(url)"
      ],
      "execution_count": 0,
      "outputs": []
    },
    {
      "cell_type": "markdown",
      "metadata": {
        "id": "MeCDr5ODiPGp",
        "colab_type": "text"
      },
      "source": [
        "## Checking the data"
      ]
    },
    {
      "cell_type": "markdown",
      "metadata": {
        "id": "8ea0t4w7gfyS",
        "colab_type": "text"
      },
      "source": [
        "**Check the head of the DataFrame**"
      ]
    },
    {
      "cell_type": "code",
      "metadata": {
        "id": "ajTRitpegmFU",
        "colab_type": "code",
        "colab": {
          "base_uri": "https://localhost:8080/",
          "height": 200
        },
        "outputId": "9fba8acc-17bb-47dd-c522-46e88e6a12b4"
      },
      "source": [
        "se.head()"
      ],
      "execution_count": 10,
      "outputs": [
        {
          "output_type": "execute_result",
          "data": {
            "text/html": [
              "<div>\n",
              "<style scoped>\n",
              "    .dataframe tbody tr th:only-of-type {\n",
              "        vertical-align: middle;\n",
              "    }\n",
              "\n",
              "    .dataframe tbody tr th {\n",
              "        vertical-align: top;\n",
              "    }\n",
              "\n",
              "    .dataframe thead th {\n",
              "        text-align: right;\n",
              "    }\n",
              "</style>\n",
              "<table border=\"1\" class=\"dataframe\">\n",
              "  <thead>\n",
              "    <tr style=\"text-align: right;\">\n",
              "      <th></th>\n",
              "      <th>Area</th>\n",
              "      <th>Perimeter</th>\n",
              "      <th>Compactness</th>\n",
              "      <th>Kernel.Length</th>\n",
              "      <th>Kernel.Width</th>\n",
              "      <th>Asymmetry.Coeff</th>\n",
              "      <th>Kernel.Groove</th>\n",
              "      <th>Type</th>\n",
              "    </tr>\n",
              "  </thead>\n",
              "  <tbody>\n",
              "    <tr>\n",
              "      <th>0</th>\n",
              "      <td>15.26</td>\n",
              "      <td>14.84</td>\n",
              "      <td>0.8710</td>\n",
              "      <td>5.763</td>\n",
              "      <td>3.312</td>\n",
              "      <td>2.221</td>\n",
              "      <td>5.220</td>\n",
              "      <td>1</td>\n",
              "    </tr>\n",
              "    <tr>\n",
              "      <th>1</th>\n",
              "      <td>14.88</td>\n",
              "      <td>14.57</td>\n",
              "      <td>0.8811</td>\n",
              "      <td>5.554</td>\n",
              "      <td>3.333</td>\n",
              "      <td>1.018</td>\n",
              "      <td>4.956</td>\n",
              "      <td>1</td>\n",
              "    </tr>\n",
              "    <tr>\n",
              "      <th>2</th>\n",
              "      <td>14.29</td>\n",
              "      <td>14.09</td>\n",
              "      <td>0.9050</td>\n",
              "      <td>5.291</td>\n",
              "      <td>3.337</td>\n",
              "      <td>2.699</td>\n",
              "      <td>4.825</td>\n",
              "      <td>1</td>\n",
              "    </tr>\n",
              "    <tr>\n",
              "      <th>3</th>\n",
              "      <td>13.84</td>\n",
              "      <td>13.94</td>\n",
              "      <td>0.8955</td>\n",
              "      <td>5.324</td>\n",
              "      <td>3.379</td>\n",
              "      <td>2.259</td>\n",
              "      <td>4.805</td>\n",
              "      <td>1</td>\n",
              "    </tr>\n",
              "    <tr>\n",
              "      <th>4</th>\n",
              "      <td>16.14</td>\n",
              "      <td>14.99</td>\n",
              "      <td>0.9034</td>\n",
              "      <td>5.658</td>\n",
              "      <td>3.562</td>\n",
              "      <td>1.355</td>\n",
              "      <td>5.175</td>\n",
              "      <td>1</td>\n",
              "    </tr>\n",
              "  </tbody>\n",
              "</table>\n",
              "</div>"
            ],
            "text/plain": [
              "    Area  Perimeter  Compactness  ...  Asymmetry.Coeff  Kernel.Groove  Type\n",
              "0  15.26      14.84       0.8710  ...            2.221          5.220     1\n",
              "1  14.88      14.57       0.8811  ...            1.018          4.956     1\n",
              "2  14.29      14.09       0.9050  ...            2.699          4.825     1\n",
              "3  13.84      13.94       0.8955  ...            2.259          4.805     1\n",
              "4  16.14      14.99       0.9034  ...            1.355          5.175     1\n",
              "\n",
              "[5 rows x 8 columns]"
            ]
          },
          "metadata": {
            "tags": []
          },
          "execution_count": 10
        }
      ]
    },
    {
      "cell_type": "markdown",
      "metadata": {
        "id": "BDqy1QbRtlM2",
        "colab_type": "text"
      },
      "source": [
        "**Let's see our data's information**"
      ]
    },
    {
      "cell_type": "code",
      "metadata": {
        "id": "yfxfs2Eio7HB",
        "colab_type": "code",
        "colab": {
          "base_uri": "https://localhost:8080/",
          "height": 248
        },
        "outputId": "b61a76b3-b8fd-4262-e6e8-1cc974e62328"
      },
      "source": [
        "se.info()"
      ],
      "execution_count": 11,
      "outputs": [
        {
          "output_type": "stream",
          "text": [
            "<class 'pandas.core.frame.DataFrame'>\n",
            "RangeIndex: 199 entries, 0 to 198\n",
            "Data columns (total 8 columns):\n",
            "Area               199 non-null float64\n",
            "Perimeter          199 non-null float64\n",
            "Compactness        199 non-null float64\n",
            "Kernel.Length      199 non-null float64\n",
            "Kernel.Width       199 non-null float64\n",
            "Asymmetry.Coeff    199 non-null float64\n",
            "Kernel.Groove      199 non-null float64\n",
            "Type               199 non-null int64\n",
            "dtypes: float64(7), int64(1)\n",
            "memory usage: 12.5 KB\n"
          ],
          "name": "stdout"
        }
      ]
    },
    {
      "cell_type": "markdown",
      "metadata": {
        "id": "Z5Vgu_9YtToj",
        "colab_type": "text"
      },
      "source": [
        "**We will have a look at my data features' statistics**"
      ]
    },
    {
      "cell_type": "code",
      "metadata": {
        "id": "wmVpfGiMo8Iz",
        "colab_type": "code",
        "colab": {
          "base_uri": "https://localhost:8080/",
          "height": 291
        },
        "outputId": "00471192-e12e-45c1-f774-9c794e794326"
      },
      "source": [
        "se.describe()"
      ],
      "execution_count": 13,
      "outputs": [
        {
          "output_type": "execute_result",
          "data": {
            "text/html": [
              "<div>\n",
              "<style scoped>\n",
              "    .dataframe tbody tr th:only-of-type {\n",
              "        vertical-align: middle;\n",
              "    }\n",
              "\n",
              "    .dataframe tbody tr th {\n",
              "        vertical-align: top;\n",
              "    }\n",
              "\n",
              "    .dataframe thead th {\n",
              "        text-align: right;\n",
              "    }\n",
              "</style>\n",
              "<table border=\"1\" class=\"dataframe\">\n",
              "  <thead>\n",
              "    <tr style=\"text-align: right;\">\n",
              "      <th></th>\n",
              "      <th>Area</th>\n",
              "      <th>Perimeter</th>\n",
              "      <th>Compactness</th>\n",
              "      <th>Kernel.Length</th>\n",
              "      <th>Kernel.Width</th>\n",
              "      <th>Asymmetry.Coeff</th>\n",
              "      <th>Kernel.Groove</th>\n",
              "      <th>Type</th>\n",
              "    </tr>\n",
              "  </thead>\n",
              "  <tbody>\n",
              "    <tr>\n",
              "      <th>count</th>\n",
              "      <td>199.000000</td>\n",
              "      <td>199.000000</td>\n",
              "      <td>199.000000</td>\n",
              "      <td>199.000000</td>\n",
              "      <td>199.000000</td>\n",
              "      <td>199.000000</td>\n",
              "      <td>199.000000</td>\n",
              "      <td>199.000000</td>\n",
              "    </tr>\n",
              "    <tr>\n",
              "      <th>mean</th>\n",
              "      <td>14.918744</td>\n",
              "      <td>14.595829</td>\n",
              "      <td>0.870811</td>\n",
              "      <td>5.643151</td>\n",
              "      <td>3.265533</td>\n",
              "      <td>3.699217</td>\n",
              "      <td>5.420653</td>\n",
              "      <td>1.994975</td>\n",
              "    </tr>\n",
              "    <tr>\n",
              "      <th>std</th>\n",
              "      <td>2.919976</td>\n",
              "      <td>1.310445</td>\n",
              "      <td>0.023320</td>\n",
              "      <td>0.443593</td>\n",
              "      <td>0.378322</td>\n",
              "      <td>1.471102</td>\n",
              "      <td>0.492718</td>\n",
              "      <td>0.813382</td>\n",
              "    </tr>\n",
              "    <tr>\n",
              "      <th>min</th>\n",
              "      <td>10.590000</td>\n",
              "      <td>12.410000</td>\n",
              "      <td>0.808100</td>\n",
              "      <td>4.899000</td>\n",
              "      <td>2.630000</td>\n",
              "      <td>0.765100</td>\n",
              "      <td>4.519000</td>\n",
              "      <td>1.000000</td>\n",
              "    </tr>\n",
              "    <tr>\n",
              "      <th>25%</th>\n",
              "      <td>12.330000</td>\n",
              "      <td>13.470000</td>\n",
              "      <td>0.857100</td>\n",
              "      <td>5.267000</td>\n",
              "      <td>2.954500</td>\n",
              "      <td>2.570000</td>\n",
              "      <td>5.046000</td>\n",
              "      <td>1.000000</td>\n",
              "    </tr>\n",
              "    <tr>\n",
              "      <th>50%</th>\n",
              "      <td>14.430000</td>\n",
              "      <td>14.370000</td>\n",
              "      <td>0.873400</td>\n",
              "      <td>5.541000</td>\n",
              "      <td>3.245000</td>\n",
              "      <td>3.631000</td>\n",
              "      <td>5.228000</td>\n",
              "      <td>2.000000</td>\n",
              "    </tr>\n",
              "    <tr>\n",
              "      <th>75%</th>\n",
              "      <td>17.455000</td>\n",
              "      <td>15.805000</td>\n",
              "      <td>0.886800</td>\n",
              "      <td>6.002000</td>\n",
              "      <td>3.564500</td>\n",
              "      <td>4.799000</td>\n",
              "      <td>5.879000</td>\n",
              "      <td>3.000000</td>\n",
              "    </tr>\n",
              "    <tr>\n",
              "      <th>max</th>\n",
              "      <td>21.180000</td>\n",
              "      <td>17.250000</td>\n",
              "      <td>0.918300</td>\n",
              "      <td>6.675000</td>\n",
              "      <td>4.033000</td>\n",
              "      <td>8.315000</td>\n",
              "      <td>6.550000</td>\n",
              "      <td>3.000000</td>\n",
              "    </tr>\n",
              "  </tbody>\n",
              "</table>\n",
              "</div>"
            ],
            "text/plain": [
              "             Area   Perimeter  ...  Kernel.Groove        Type\n",
              "count  199.000000  199.000000  ...     199.000000  199.000000\n",
              "mean    14.918744   14.595829  ...       5.420653    1.994975\n",
              "std      2.919976    1.310445  ...       0.492718    0.813382\n",
              "min     10.590000   12.410000  ...       4.519000    1.000000\n",
              "25%     12.330000   13.470000  ...       5.046000    1.000000\n",
              "50%     14.430000   14.370000  ...       5.228000    2.000000\n",
              "75%     17.455000   15.805000  ...       5.879000    3.000000\n",
              "max     21.180000   17.250000  ...       6.550000    3.000000\n",
              "\n",
              "[8 rows x 8 columns]"
            ]
          },
          "metadata": {
            "tags": []
          },
          "execution_count": 13
        }
      ]
    },
    {
      "cell_type": "markdown",
      "metadata": {
        "id": "RhUiABI8pDj2",
        "colab_type": "text"
      },
      "source": [
        "## Cleaning the data"
      ]
    },
    {
      "cell_type": "markdown",
      "metadata": {
        "id": "Eogg52HppN40",
        "colab_type": "text"
      },
      "source": [
        "**Check for NaN values**"
      ]
    },
    {
      "cell_type": "code",
      "metadata": {
        "id": "zBoUs6Qno-Mr",
        "colab_type": "code",
        "colab": {
          "base_uri": "https://localhost:8080/",
          "height": 177
        },
        "outputId": "99beb5ad-e500-4e36-a6cd-740623fef569"
      },
      "source": [
        "se.isnull().sum()"
      ],
      "execution_count": 14,
      "outputs": [
        {
          "output_type": "execute_result",
          "data": {
            "text/plain": [
              "Area               0\n",
              "Perimeter          0\n",
              "Compactness        0\n",
              "Kernel.Length      0\n",
              "Kernel.Width       0\n",
              "Asymmetry.Coeff    0\n",
              "Kernel.Groove      0\n",
              "Type               0\n",
              "dtype: int64"
            ]
          },
          "metadata": {
            "tags": []
          },
          "execution_count": 14
        }
      ]
    },
    {
      "cell_type": "markdown",
      "metadata": {
        "id": "_NFjJjwlpanW",
        "colab_type": "text"
      },
      "source": [
        "## EDA"
      ]
    },
    {
      "cell_type": "markdown",
      "metadata": {
        "id": "E8FL7EROrLgT",
        "colab_type": "text"
      },
      "source": [
        "The last column is reserved for the Kernel type. This particular dataset has 199 entries. Some of these variables are explicitly dependent. \n",
        "\n",
        "For example, compactness: C = 4piArea/(Perimeter)^2 has a linear proportional relationship with area, and also a square proportionality with kernel width."
      ]
    },
    {
      "cell_type": "code",
      "metadata": {
        "id": "1_zoRmH_pZIB",
        "colab_type": "code",
        "colab": {}
      },
      "source": [
        ""
      ],
      "execution_count": 0,
      "outputs": []
    }
  ]
}